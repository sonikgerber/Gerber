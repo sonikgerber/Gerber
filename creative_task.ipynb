{
  "metadata": {
    "kernelspec": {
      "name": "python",
      "display_name": "Python (Pyodide)",
      "language": "python"
    },
    "language_info": {
      "codemirror_mode": {
        "name": "python",
        "version": 3
      },
      "file_extension": ".py",
      "mimetype": "text/x-python",
      "name": "python",
      "nbconvert_exporter": "python",
      "pygments_lexer": "ipython3",
      "version": "3.8"
    }
  },
  "nbformat_minor": 5,
  "nbformat": 4,
  "cells": [
    {
      "id": "5876046a-0f51-44d4-8486-d374d433ba00",
      "cell_type": "markdown",
      "source": "Поможем Васе подсчитать, сколько различных букв встречалось в строке.\n\nФормат ввода\nВводится одна строка.\n\nФормат вывода\nСписок букв и их количество.\nПорядок вывода не имеет значения.\n\nПример 1:\nПривет мир                      п - 1\n                                р - 2\n                                и - 2\n                                в - 1\n                                е - 1\n                                т - 1\n                                м - 1\n\n                ",
      "metadata": {}
    },
    {
      "id": "d7dfdedb-7fd3-4524-98b3-fbe2db928289",
      "cell_type": "code",
      "source": "a = input().lower().replace(\" \", \"\")\nb = {}\nfor i in range(len(a)):\n    if a[i] not in b:\n        b.update({ a[i] : a.count(a[i])})\nfor x, y in b.items():\n  print(x,\"-\", y)",
      "metadata": {
        "trusted": true
      },
      "outputs": [],
      "execution_count": null
    },
    {
      "id": "2f8c61f1-ede6-40ed-81f4-9495ba1868cd",
      "cell_type": "markdown",
      "source": "Напишите программу, котрая по введённой строке определяла из каких символов та состоит.\n\nФормат ввода\nВводится одна строка.\n\nФормат вывода\nТребуется вывести все символы этой строки без повторений.\nПорядок вывода не имеет значения.\n\nПример 1\n\nВвод\nогород\n\nВывод\nо г р д\n\nПример 2\n\nВвод\nлицей\n\nВывод\nл и ц е й",
      "metadata": {}
    },
    {
      "id": "5df07621-d6bc-42cc-8130-28c0fced42e9",
      "cell_type": "code",
      "source": "a = input()\nprint(*set(a))",
      "metadata": {
        "trusted": true
      },
      "outputs": [],
      "execution_count": null
    }
  ]
}